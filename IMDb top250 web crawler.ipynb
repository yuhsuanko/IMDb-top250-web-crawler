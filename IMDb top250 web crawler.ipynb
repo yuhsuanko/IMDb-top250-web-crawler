{
 "cells": [
  {
   "cell_type": "markdown",
   "metadata": {},
   "source": [
    "# IMDb top250 web crawler"
   ]
  },
  {
   "cell_type": "markdown",
   "metadata": {},
   "source": [
    "## Import some necessary packages"
   ]
  },
  {
   "cell_type": "code",
   "execution_count": 1,
   "metadata": {},
   "outputs": [],
   "source": [
    "from bs4 import BeautifulSoup\n",
    "import requests\n",
    "import pandas as pd\n",
    "url='https://www.imdb.com/chart/top?ref_=nv_mv_250'\n",
    "html_text=requests.get(url)\n",
    "html_text.encoding='utf-8'\n",
    "bs = BeautifulSoup(html_text.content,'html.parser')"
   ]
  },
  {
   "cell_type": "markdown",
   "metadata": {},
   "source": [
    "## Get some data"
   ]
  },
  {
   "cell_type": "code",
   "execution_count": 2,
   "metadata": {},
   "outputs": [],
   "source": [
    "getall=bs.find('tbody',{\"class\":\"lister-list\"})\n",
    "position=getall.find_all('td',attrs={\"class\":\"titleColumn\"})\n",
    "position\n",
    "df = []\n",
    "for i in range(0,len(position)):\n",
    "     df.append(position[i].text)\n",
    "\n",
    "con=getall.find_all('a')\n",
    "\n",
    "link=[]\n",
    "for i in range(0,len(position)*2):\n",
    "    #print(bb[i].text)\n",
    "    link.append('https://www.imdb.com'+con[i].get('href'))"
   ]
  },
  {
   "cell_type": "markdown",
   "metadata": {},
   "source": [
    "## Clean data&reshape Dataframe"
   ]
  },
  {
   "cell_type": "code",
   "execution_count": 3,
   "metadata": {},
   "outputs": [],
   "source": [
    "df=pd.DataFrame(df)\n",
    "dat=df[0].str.split('\\n',expand=True)\n",
    "dat=dat.rename({0: 'hi',\n",
    "                1: 'ranking',\n",
    "                2: 'moive',\n",
    "                3: 'release_year',\n",
    "                4: 'bye'},axis=1)\n",
    "new_dat=dat.drop(['hi','bye'],axis=1)\n",
    "#new['ranking'].str.strip()"
   ]
  },
  {
   "cell_type": "markdown",
   "metadata": {},
   "source": [
    "## Use regular expression to deal with '(year)'"
   ]
  },
  {
   "cell_type": "code",
   "execution_count": 4,
   "metadata": {},
   "outputs": [],
   "source": [
    "import re\n",
    "year = re.compile(r'\\d\\d\\d\\d', flags=re.IGNORECASE)\n",
    "lis=[]\n",
    "for i in range(0,len(new_dat)):\n",
    "    f=year.findall(new_dat['release_year'][i])\n",
    "    lis.append(f)"
   ]
  },
  {
   "cell_type": "markdown",
   "metadata": {},
   "source": [
    "## Deal with each moive website link "
   ]
  },
  {
   "cell_type": "code",
   "execution_count": 5,
   "metadata": {},
   "outputs": [
    {
     "data": {
      "text/html": [
       "<div>\n",
       "<style scoped>\n",
       "    .dataframe tbody tr th:only-of-type {\n",
       "        vertical-align: middle;\n",
       "    }\n",
       "\n",
       "    .dataframe tbody tr th {\n",
       "        vertical-align: top;\n",
       "    }\n",
       "\n",
       "    .dataframe thead th {\n",
       "        text-align: right;\n",
       "    }\n",
       "</style>\n",
       "<table border=\"1\" class=\"dataframe\">\n",
       "  <thead>\n",
       "    <tr style=\"text-align: right;\">\n",
       "      <th></th>\n",
       "      <th>0</th>\n",
       "    </tr>\n",
       "  </thead>\n",
       "  <tbody>\n",
       "    <tr>\n",
       "      <th>0</th>\n",
       "      <td>https://www.imdb.com/title/tt0111161/</td>\n",
       "    </tr>\n",
       "    <tr>\n",
       "      <th>1</th>\n",
       "      <td>https://www.imdb.com/title/tt0068646/</td>\n",
       "    </tr>\n",
       "    <tr>\n",
       "      <th>2</th>\n",
       "      <td>https://www.imdb.com/title/tt0468569/</td>\n",
       "    </tr>\n",
       "    <tr>\n",
       "      <th>3</th>\n",
       "      <td>https://www.imdb.com/title/tt0071562/</td>\n",
       "    </tr>\n",
       "    <tr>\n",
       "      <th>4</th>\n",
       "      <td>https://www.imdb.com/title/tt0050083/</td>\n",
       "    </tr>\n",
       "    <tr>\n",
       "      <th>...</th>\n",
       "      <td>...</td>\n",
       "    </tr>\n",
       "    <tr>\n",
       "      <th>245</th>\n",
       "      <td>https://www.imdb.com/title/tt0101414/</td>\n",
       "    </tr>\n",
       "    <tr>\n",
       "      <th>246</th>\n",
       "      <td>https://www.imdb.com/title/tt0083987/</td>\n",
       "    </tr>\n",
       "    <tr>\n",
       "      <th>247</th>\n",
       "      <td>https://www.imdb.com/title/tt1454029/</td>\n",
       "    </tr>\n",
       "    <tr>\n",
       "      <th>248</th>\n",
       "      <td>https://www.imdb.com/title/tt4016934/</td>\n",
       "    </tr>\n",
       "    <tr>\n",
       "      <th>249</th>\n",
       "      <td>https://www.imdb.com/title/tt15097216/</td>\n",
       "    </tr>\n",
       "  </tbody>\n",
       "</table>\n",
       "<p>250 rows × 1 columns</p>\n",
       "</div>"
      ],
      "text/plain": [
       "                                          0\n",
       "0     https://www.imdb.com/title/tt0111161/\n",
       "1     https://www.imdb.com/title/tt0068646/\n",
       "2     https://www.imdb.com/title/tt0468569/\n",
       "3     https://www.imdb.com/title/tt0071562/\n",
       "4     https://www.imdb.com/title/tt0050083/\n",
       "..                                      ...\n",
       "245   https://www.imdb.com/title/tt0101414/\n",
       "246   https://www.imdb.com/title/tt0083987/\n",
       "247   https://www.imdb.com/title/tt1454029/\n",
       "248   https://www.imdb.com/title/tt4016934/\n",
       "249  https://www.imdb.com/title/tt15097216/\n",
       "\n",
       "[250 rows x 1 columns]"
      ]
     },
     "execution_count": 5,
     "metadata": {},
     "output_type": "execute_result"
    }
   ],
   "source": [
    "link=pd.DataFrame(link)\n",
    "link=link.drop_duplicates()\n",
    "link=link.reset_index(drop=True)\n",
    "link"
   ]
  },
  {
   "cell_type": "markdown",
   "metadata": {},
   "source": [
    "## Complete data"
   ]
  },
  {
   "cell_type": "code",
   "execution_count": 6,
   "metadata": {
    "scrolled": false
   },
   "outputs": [
    {
     "data": {
      "text/html": [
       "<div>\n",
       "<style scoped>\n",
       "    .dataframe tbody tr th:only-of-type {\n",
       "        vertical-align: middle;\n",
       "    }\n",
       "\n",
       "    .dataframe tbody tr th {\n",
       "        vertical-align: top;\n",
       "    }\n",
       "\n",
       "    .dataframe thead th {\n",
       "        text-align: right;\n",
       "    }\n",
       "</style>\n",
       "<table border=\"1\" class=\"dataframe\">\n",
       "  <thead>\n",
       "    <tr style=\"text-align: right;\">\n",
       "      <th></th>\n",
       "      <th>ranking</th>\n",
       "      <th>moive</th>\n",
       "      <th>release_year</th>\n",
       "      <th>link</th>\n",
       "    </tr>\n",
       "  </thead>\n",
       "  <tbody>\n",
       "    <tr>\n",
       "      <th>0</th>\n",
       "      <td>1.0</td>\n",
       "      <td>刺激1995</td>\n",
       "      <td>1994</td>\n",
       "      <td>https://www.imdb.com/title/tt0111161/</td>\n",
       "    </tr>\n",
       "    <tr>\n",
       "      <th>1</th>\n",
       "      <td>2.0</td>\n",
       "      <td>教父</td>\n",
       "      <td>1972</td>\n",
       "      <td>https://www.imdb.com/title/tt0068646/</td>\n",
       "    </tr>\n",
       "    <tr>\n",
       "      <th>2</th>\n",
       "      <td>3.0</td>\n",
       "      <td>黑暗騎士</td>\n",
       "      <td>2008</td>\n",
       "      <td>https://www.imdb.com/title/tt0468569/</td>\n",
       "    </tr>\n",
       "    <tr>\n",
       "      <th>3</th>\n",
       "      <td>4.0</td>\n",
       "      <td>教父第二集</td>\n",
       "      <td>1974</td>\n",
       "      <td>https://www.imdb.com/title/tt0071562/</td>\n",
       "    </tr>\n",
       "    <tr>\n",
       "      <th>4</th>\n",
       "      <td>5.0</td>\n",
       "      <td>十二怒漢</td>\n",
       "      <td>1957</td>\n",
       "      <td>https://www.imdb.com/title/tt0050083/</td>\n",
       "    </tr>\n",
       "    <tr>\n",
       "      <th>...</th>\n",
       "      <td>...</td>\n",
       "      <td>...</td>\n",
       "      <td>...</td>\n",
       "      <td>...</td>\n",
       "    </tr>\n",
       "    <tr>\n",
       "      <th>245</th>\n",
       "      <td>246.0</td>\n",
       "      <td>美女與野獸</td>\n",
       "      <td>1991</td>\n",
       "      <td>https://www.imdb.com/title/tt0101414/</td>\n",
       "    </tr>\n",
       "    <tr>\n",
       "      <th>246</th>\n",
       "      <td>247.0</td>\n",
       "      <td>甘地</td>\n",
       "      <td>1982</td>\n",
       "      <td>https://www.imdb.com/title/tt0083987/</td>\n",
       "    </tr>\n",
       "    <tr>\n",
       "      <th>247</th>\n",
       "      <td>248.0</td>\n",
       "      <td>姊妹</td>\n",
       "      <td>2011</td>\n",
       "      <td>https://www.imdb.com/title/tt1454029/</td>\n",
       "    </tr>\n",
       "    <tr>\n",
       "      <th>248</th>\n",
       "      <td>249.0</td>\n",
       "      <td>下女的誘惑</td>\n",
       "      <td>2016</td>\n",
       "      <td>https://www.imdb.com/title/tt4016934/</td>\n",
       "    </tr>\n",
       "    <tr>\n",
       "      <th>249</th>\n",
       "      <td>250.0</td>\n",
       "      <td>Jai Bhim</td>\n",
       "      <td>2021</td>\n",
       "      <td>https://www.imdb.com/title/tt15097216/</td>\n",
       "    </tr>\n",
       "  </tbody>\n",
       "</table>\n",
       "<p>250 rows × 4 columns</p>\n",
       "</div>"
      ],
      "text/plain": [
       "         ranking           moive release_year  \\\n",
       "0            1.0          刺激1995         1994   \n",
       "1            2.0              教父         1972   \n",
       "2            3.0            黑暗騎士         2008   \n",
       "3            4.0           教父第二集         1974   \n",
       "4            5.0            十二怒漢         1957   \n",
       "..           ...             ...          ...   \n",
       "245        246.0           美女與野獸         1991   \n",
       "246        247.0              甘地         1982   \n",
       "247        248.0              姊妹         2011   \n",
       "248        249.0           下女的誘惑         2016   \n",
       "249        250.0        Jai Bhim         2021   \n",
       "\n",
       "                                       link  \n",
       "0     https://www.imdb.com/title/tt0111161/  \n",
       "1     https://www.imdb.com/title/tt0068646/  \n",
       "2     https://www.imdb.com/title/tt0468569/  \n",
       "3     https://www.imdb.com/title/tt0071562/  \n",
       "4     https://www.imdb.com/title/tt0050083/  \n",
       "..                                      ...  \n",
       "245   https://www.imdb.com/title/tt0101414/  \n",
       "246   https://www.imdb.com/title/tt0083987/  \n",
       "247   https://www.imdb.com/title/tt1454029/  \n",
       "248   https://www.imdb.com/title/tt4016934/  \n",
       "249  https://www.imdb.com/title/tt15097216/  \n",
       "\n",
       "[250 rows x 4 columns]"
      ]
     },
     "execution_count": 6,
     "metadata": {},
     "output_type": "execute_result"
    }
   ],
   "source": [
    "new_dat['release_year']=pd.DataFrame(lis)\n",
    "new_dat['link']=pd.DataFrame(link)\n",
    "new_dat"
   ]
  }
 ],
 "metadata": {
  "kernelspec": {
   "display_name": "Python 3",
   "language": "python",
   "name": "python3"
  },
  "language_info": {
   "codemirror_mode": {
    "name": "ipython",
    "version": 3
   },
   "file_extension": ".py",
   "mimetype": "text/x-python",
   "name": "python",
   "nbconvert_exporter": "python",
   "pygments_lexer": "ipython3",
   "version": "3.8.5"
  }
 },
 "nbformat": 4,
 "nbformat_minor": 4
}
